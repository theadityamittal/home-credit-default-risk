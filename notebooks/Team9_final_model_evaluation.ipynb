{
  "nbformat": 4,
  "nbformat_minor": 0,
  "metadata": {
    "colab": {
      "provenance": [],
      "machine_shape": "hm"
    },
    "kernelspec": {
      "name": "python3",
      "display_name": "Python 3"
    },
    "language_info": {
      "name": "python"
    }
  },
  "cells": [
    {
      "cell_type": "code",
      "execution_count": 1,
      "metadata": {
        "id": "RAgRRACHubiO"
      },
      "outputs": [],
      "source": [
        "import pandas as pd\n",
        "import numpy as np\n"
      ]
    },
    {
      "cell_type": "code",
      "source": [
        "from google.colab import drive\n",
        "drive.mount('/content/drive')\n",
        "import os\n",
        "\n",
        "folder_path = '/content/drive/My Drive/'\n",
        "os.listdir(folder_path)"
      ],
      "metadata": {
        "colab": {
          "base_uri": "https://localhost:8080/"
        },
        "id": "mSsLr_sh1fhb",
        "outputId": "3ed1d754-f2a4-4a29-efcd-d634b61371b5"
      },
      "execution_count": 2,
      "outputs": [
        {
          "output_type": "stream",
          "name": "stdout",
          "text": [
            "Mounted at /content/drive\n"
          ]
        },
        {
          "output_type": "execute_result",
          "data": {
            "text/plain": [
              "['Parents Handbook of Career after School.PDF',\n",
              " 'SERIES.CPP',\n",
              " 'Elimination reaction.docx',\n",
              " 'CONSONEN.CPP',\n",
              " 'C&V.BAK',\n",
              " 'INHERITA.CPP',\n",
              " '1.CPP',\n",
              " 'C&V.CPP',\n",
              " '1.BAK',\n",
              " 'INHERITA.BAK',\n",
              " 'teaser.wav',\n",
              " 'GDGIMUN 2018',\n",
              " 'New Doc 2018-09-02 18.13.16_1.jpg',\n",
              " 'New Doc 2018-09-02 18.13.16_2.jpg',\n",
              " 'GoogleCamera_6.1.009.215420794-beta-1.apk - Google Drive',\n",
              " 'Computer Science Compiled Notes 2016.pdf',\n",
              " 'rube goldberg.pdf',\n",
              " 'HHW1(final).CPP',\n",
              " 'cs.pdf',\n",
              " 'going places.pptx',\n",
              " 'Copy of UL-ASUS_X00T-WW-16.2017.1902.037-user.zip',\n",
              " 'aadhar card.jpg',\n",
              " 'swot.pdf',\n",
              " 'beiser.pdf',\n",
              " 'swot.mp4',\n",
              " 'SWOT.docx',\n",
              " 'eng test.pdf',\n",
              " 'matlab.pdf',\n",
              " 'Listening - Page 1.pdf',\n",
              " 'project final (1).rtf.gdoc',\n",
              " 'project final.rtf.gdoc',\n",
              " '19BCE2362_VL2019205006378_AST03 (1).gdoc',\n",
              " '19BCE2124.cpp',\n",
              " 'printout.pdf',\n",
              " 'clb.png',\n",
              " 'Survey Table.gdoc',\n",
              " 'ISAA Result and Analysis .gslides',\n",
              " '1. n_gram.gslides',\n",
              " 'Review 3.gdoc',\n",
              " 'PDC review 3.gslides',\n",
              " 'UL-ASUS_X00T-WW-16.2017.1902.037-user.zip',\n",
              " 'unsc.psd',\n",
              " 'images',\n",
              " 'key ingredients',\n",
              " 'Untitled document.gdoc',\n",
              " 'Namhya Combos.gdoc',\n",
              " \"kp's docs\",\n",
              " 'Your big idea.gslides',\n",
              " 'Review: 1(hci).gdoc',\n",
              " 'Human Computer Interaction.gslides',\n",
              " 'Copy of Kaartikeya Panjwani_UniList_MS Computer Science_USA.xlsx',\n",
              " 'Coursera STEGQRULFDJ4.pdf',\n",
              " 'Loan Documents',\n",
              " 'Colab Notebooks',\n",
              " 'Literature Survey.gdoc',\n",
              " 'capstone review',\n",
              " 'IMG_2682.JPG',\n",
              " 'css pics',\n",
              " 'kp3291_big_data_proj',\n",
              " 'Kaartikeya_Panjwani_resume (Data Science).pdf',\n",
              " 'Untitled spreadsheet.gsheet',\n",
              " 'Waste Management Health Hazards.gform',\n",
              " 'lora_model_leader.zip',\n",
              " 'home-credit-default-risk',\n",
              " 'train_compressed.csv',\n",
              " 'test_compressed.csv']"
            ]
          },
          "metadata": {},
          "execution_count": 2
        }
      ]
    },
    {
      "cell_type": "code",
      "source": [
        "application_train = pd.read_csv(os.path.join(folder_path, 'train_compressed.csv'))\n",
        "application_test = pd.read_csv(os.path.join(folder_path, 'test_compressed.csv'))"
      ],
      "metadata": {
        "id": "GB2sKQqP1flT"
      },
      "execution_count": 11,
      "outputs": []
    },
    {
      "cell_type": "code",
      "source": [
        "# Move 'SK_ID_CURR' to the first column in application_train\n",
        "cols = ['SK_ID_CURR'] + [col for col in application_train.columns if col != 'SK_ID_CURR']\n",
        "application_train = application_train[cols]\n",
        "\n",
        "# Move 'SK_ID_CURR' to the first column in application_test\n",
        "cols = ['SK_ID_CURR'] + [col for col in application_test.columns if col != 'SK_ID_CURR']\n",
        "application_test = application_test[cols]"
      ],
      "metadata": {
        "id": "uUuE8RungzHb"
      },
      "execution_count": 12,
      "outputs": []
    },
    {
      "cell_type": "code",
      "source": [
        "application_train.head()"
      ],
      "metadata": {
        "colab": {
          "base_uri": "https://localhost:8080/",
          "height": 273
        },
        "id": "Tz3gVvWQ1fn8",
        "outputId": "579969fd-172b-4b22-9b1e-1e540ddc395b"
      },
      "execution_count": 13,
      "outputs": [
        {
          "output_type": "execute_result",
          "data": {
            "text/plain": [
              "   SK_ID_CURR  EXT_SOURCE_2  EXT_SOURCE_3  EXT_SOURCE_1  DAYS_BIRTH  \\\n",
              "0      100002      0.262949      0.139376      0.083037       -9461   \n",
              "1      100003      0.622246           NaN      0.311267      -16765   \n",
              "2      100004      0.555912      0.729567           NaN      -19046   \n",
              "3      100006      0.650442           NaN           NaN      -19005   \n",
              "4      100007      0.322738           NaN           NaN      -19932   \n",
              "\n",
              "   client_installments_AMT_PAYMENT_min_sum  bureau_DAYS_CREDIT_mean  \\\n",
              "0                                175783.73                  -874.00   \n",
              "1                               1154108.20                 -1400.75   \n",
              "2                                 16071.75                  -867.00   \n",
              "3                                994476.70                      NaN   \n",
              "4                                483756.38                 -1149.00   \n",
              "\n",
              "   client_installments_AMT_PAYMENT_min_max  DAYS_REGISTRATION  \\\n",
              "0                                 9251.775            -3648.0   \n",
              "1                                98356.990            -1186.0   \n",
              "2                                 5357.250            -4260.0   \n",
              "3                               691786.900            -9833.0   \n",
              "4                                16046.100            -4311.0   \n",
              "\n",
              "   bureau_DAYS_CREDIT_max  ...  \\\n",
              "0                  -103.0  ...   \n",
              "1                  -606.0  ...   \n",
              "2                  -408.0  ...   \n",
              "3                     NaN  ...   \n",
              "4                 -1149.0  ...   \n",
              "\n",
              "   previous_NAME_PAYMENT_TYPE_Non-cash from your account_count  \\\n",
              "0                                                0.0             \n",
              "1                                                0.0             \n",
              "2                                                0.0             \n",
              "3                                                0.0             \n",
              "4                                                0.0             \n",
              "\n",
              "   OCCUPATION_TYPE_Core staff  \\\n",
              "0                       False   \n",
              "1                        True   \n",
              "2                       False   \n",
              "3                       False   \n",
              "4                        True   \n",
              "\n",
              "   previous_NAME_CASH_LOAN_PURPOSE_Urgent needs_count  \\\n",
              "0                                                0.0    \n",
              "1                                                0.0    \n",
              "2                                                0.0    \n",
              "3                                                0.0    \n",
              "4                                                0.0    \n",
              "\n",
              "   client_cash_NAME_CONTRACT_STATUS_Approved_count_norm_max  \\\n",
              "0                                                0.0          \n",
              "1                                                0.0          \n",
              "2                                                0.0          \n",
              "3                                                0.0          \n",
              "4                                                0.0          \n",
              "\n",
              "   previous_NAME_SELLER_INDUSTRY_Clothing_count  \\\n",
              "0                                           0.0   \n",
              "1                                           0.0   \n",
              "2                                           0.0   \n",
              "3                                           0.0   \n",
              "4                                           0.0   \n",
              "\n",
              "   bureau_CNT_CREDIT_PROLONG_max  previous_NAME_TYPE_SUITE_Other_A_count  \\\n",
              "0                            0.0                                     0.0   \n",
              "1                            0.0                                     0.0   \n",
              "2                            0.0                                     0.0   \n",
              "3                            NaN                                     0.0   \n",
              "4                            0.0                                     0.0   \n",
              "\n",
              "   bureau_CREDIT_TYPE_Car loan_count  LIVE_REGION_NOT_WORK_REGION  TARGET  \n",
              "0                                0.0                            0    True  \n",
              "1                                0.0                            0   False  \n",
              "2                                0.0                            0   False  \n",
              "3                                NaN                            0   False  \n",
              "4                                0.0                            0   False  \n",
              "\n",
              "[5 rows x 500 columns]"
            ],
            "text/html": [
              "\n",
              "  <div id=\"df-7e1dc1d2-d1aa-43e8-9bde-7cda9ac60bf3\" class=\"colab-df-container\">\n",
              "    <div>\n",
              "<style scoped>\n",
              "    .dataframe tbody tr th:only-of-type {\n",
              "        vertical-align: middle;\n",
              "    }\n",
              "\n",
              "    .dataframe tbody tr th {\n",
              "        vertical-align: top;\n",
              "    }\n",
              "\n",
              "    .dataframe thead th {\n",
              "        text-align: right;\n",
              "    }\n",
              "</style>\n",
              "<table border=\"1\" class=\"dataframe\">\n",
              "  <thead>\n",
              "    <tr style=\"text-align: right;\">\n",
              "      <th></th>\n",
              "      <th>SK_ID_CURR</th>\n",
              "      <th>EXT_SOURCE_2</th>\n",
              "      <th>EXT_SOURCE_3</th>\n",
              "      <th>EXT_SOURCE_1</th>\n",
              "      <th>DAYS_BIRTH</th>\n",
              "      <th>client_installments_AMT_PAYMENT_min_sum</th>\n",
              "      <th>bureau_DAYS_CREDIT_mean</th>\n",
              "      <th>client_installments_AMT_PAYMENT_min_max</th>\n",
              "      <th>DAYS_REGISTRATION</th>\n",
              "      <th>bureau_DAYS_CREDIT_max</th>\n",
              "      <th>...</th>\n",
              "      <th>previous_NAME_PAYMENT_TYPE_Non-cash from your account_count</th>\n",
              "      <th>OCCUPATION_TYPE_Core staff</th>\n",
              "      <th>previous_NAME_CASH_LOAN_PURPOSE_Urgent needs_count</th>\n",
              "      <th>client_cash_NAME_CONTRACT_STATUS_Approved_count_norm_max</th>\n",
              "      <th>previous_NAME_SELLER_INDUSTRY_Clothing_count</th>\n",
              "      <th>bureau_CNT_CREDIT_PROLONG_max</th>\n",
              "      <th>previous_NAME_TYPE_SUITE_Other_A_count</th>\n",
              "      <th>bureau_CREDIT_TYPE_Car loan_count</th>\n",
              "      <th>LIVE_REGION_NOT_WORK_REGION</th>\n",
              "      <th>TARGET</th>\n",
              "    </tr>\n",
              "  </thead>\n",
              "  <tbody>\n",
              "    <tr>\n",
              "      <th>0</th>\n",
              "      <td>100002</td>\n",
              "      <td>0.262949</td>\n",
              "      <td>0.139376</td>\n",
              "      <td>0.083037</td>\n",
              "      <td>-9461</td>\n",
              "      <td>175783.73</td>\n",
              "      <td>-874.00</td>\n",
              "      <td>9251.775</td>\n",
              "      <td>-3648.0</td>\n",
              "      <td>-103.0</td>\n",
              "      <td>...</td>\n",
              "      <td>0.0</td>\n",
              "      <td>False</td>\n",
              "      <td>0.0</td>\n",
              "      <td>0.0</td>\n",
              "      <td>0.0</td>\n",
              "      <td>0.0</td>\n",
              "      <td>0.0</td>\n",
              "      <td>0.0</td>\n",
              "      <td>0</td>\n",
              "      <td>True</td>\n",
              "    </tr>\n",
              "    <tr>\n",
              "      <th>1</th>\n",
              "      <td>100003</td>\n",
              "      <td>0.622246</td>\n",
              "      <td>NaN</td>\n",
              "      <td>0.311267</td>\n",
              "      <td>-16765</td>\n",
              "      <td>1154108.20</td>\n",
              "      <td>-1400.75</td>\n",
              "      <td>98356.990</td>\n",
              "      <td>-1186.0</td>\n",
              "      <td>-606.0</td>\n",
              "      <td>...</td>\n",
              "      <td>0.0</td>\n",
              "      <td>True</td>\n",
              "      <td>0.0</td>\n",
              "      <td>0.0</td>\n",
              "      <td>0.0</td>\n",
              "      <td>0.0</td>\n",
              "      <td>0.0</td>\n",
              "      <td>0.0</td>\n",
              "      <td>0</td>\n",
              "      <td>False</td>\n",
              "    </tr>\n",
              "    <tr>\n",
              "      <th>2</th>\n",
              "      <td>100004</td>\n",
              "      <td>0.555912</td>\n",
              "      <td>0.729567</td>\n",
              "      <td>NaN</td>\n",
              "      <td>-19046</td>\n",
              "      <td>16071.75</td>\n",
              "      <td>-867.00</td>\n",
              "      <td>5357.250</td>\n",
              "      <td>-4260.0</td>\n",
              "      <td>-408.0</td>\n",
              "      <td>...</td>\n",
              "      <td>0.0</td>\n",
              "      <td>False</td>\n",
              "      <td>0.0</td>\n",
              "      <td>0.0</td>\n",
              "      <td>0.0</td>\n",
              "      <td>0.0</td>\n",
              "      <td>0.0</td>\n",
              "      <td>0.0</td>\n",
              "      <td>0</td>\n",
              "      <td>False</td>\n",
              "    </tr>\n",
              "    <tr>\n",
              "      <th>3</th>\n",
              "      <td>100006</td>\n",
              "      <td>0.650442</td>\n",
              "      <td>NaN</td>\n",
              "      <td>NaN</td>\n",
              "      <td>-19005</td>\n",
              "      <td>994476.70</td>\n",
              "      <td>NaN</td>\n",
              "      <td>691786.900</td>\n",
              "      <td>-9833.0</td>\n",
              "      <td>NaN</td>\n",
              "      <td>...</td>\n",
              "      <td>0.0</td>\n",
              "      <td>False</td>\n",
              "      <td>0.0</td>\n",
              "      <td>0.0</td>\n",
              "      <td>0.0</td>\n",
              "      <td>NaN</td>\n",
              "      <td>0.0</td>\n",
              "      <td>NaN</td>\n",
              "      <td>0</td>\n",
              "      <td>False</td>\n",
              "    </tr>\n",
              "    <tr>\n",
              "      <th>4</th>\n",
              "      <td>100007</td>\n",
              "      <td>0.322738</td>\n",
              "      <td>NaN</td>\n",
              "      <td>NaN</td>\n",
              "      <td>-19932</td>\n",
              "      <td>483756.38</td>\n",
              "      <td>-1149.00</td>\n",
              "      <td>16046.100</td>\n",
              "      <td>-4311.0</td>\n",
              "      <td>-1149.0</td>\n",
              "      <td>...</td>\n",
              "      <td>0.0</td>\n",
              "      <td>True</td>\n",
              "      <td>0.0</td>\n",
              "      <td>0.0</td>\n",
              "      <td>0.0</td>\n",
              "      <td>0.0</td>\n",
              "      <td>0.0</td>\n",
              "      <td>0.0</td>\n",
              "      <td>0</td>\n",
              "      <td>False</td>\n",
              "    </tr>\n",
              "  </tbody>\n",
              "</table>\n",
              "<p>5 rows × 500 columns</p>\n",
              "</div>\n",
              "    <div class=\"colab-df-buttons\">\n",
              "\n",
              "  <div class=\"colab-df-container\">\n",
              "    <button class=\"colab-df-convert\" onclick=\"convertToInteractive('df-7e1dc1d2-d1aa-43e8-9bde-7cda9ac60bf3')\"\n",
              "            title=\"Convert this dataframe to an interactive table.\"\n",
              "            style=\"display:none;\">\n",
              "\n",
              "  <svg xmlns=\"http://www.w3.org/2000/svg\" height=\"24px\" viewBox=\"0 -960 960 960\">\n",
              "    <path d=\"M120-120v-720h720v720H120Zm60-500h600v-160H180v160Zm220 220h160v-160H400v160Zm0 220h160v-160H400v160ZM180-400h160v-160H180v160Zm440 0h160v-160H620v160ZM180-180h160v-160H180v160Zm440 0h160v-160H620v160Z\"/>\n",
              "  </svg>\n",
              "    </button>\n",
              "\n",
              "  <style>\n",
              "    .colab-df-container {\n",
              "      display:flex;\n",
              "      gap: 12px;\n",
              "    }\n",
              "\n",
              "    .colab-df-convert {\n",
              "      background-color: #E8F0FE;\n",
              "      border: none;\n",
              "      border-radius: 50%;\n",
              "      cursor: pointer;\n",
              "      display: none;\n",
              "      fill: #1967D2;\n",
              "      height: 32px;\n",
              "      padding: 0 0 0 0;\n",
              "      width: 32px;\n",
              "    }\n",
              "\n",
              "    .colab-df-convert:hover {\n",
              "      background-color: #E2EBFA;\n",
              "      box-shadow: 0px 1px 2px rgba(60, 64, 67, 0.3), 0px 1px 3px 1px rgba(60, 64, 67, 0.15);\n",
              "      fill: #174EA6;\n",
              "    }\n",
              "\n",
              "    .colab-df-buttons div {\n",
              "      margin-bottom: 4px;\n",
              "    }\n",
              "\n",
              "    [theme=dark] .colab-df-convert {\n",
              "      background-color: #3B4455;\n",
              "      fill: #D2E3FC;\n",
              "    }\n",
              "\n",
              "    [theme=dark] .colab-df-convert:hover {\n",
              "      background-color: #434B5C;\n",
              "      box-shadow: 0px 1px 3px 1px rgba(0, 0, 0, 0.15);\n",
              "      filter: drop-shadow(0px 1px 2px rgba(0, 0, 0, 0.3));\n",
              "      fill: #FFFFFF;\n",
              "    }\n",
              "  </style>\n",
              "\n",
              "    <script>\n",
              "      const buttonEl =\n",
              "        document.querySelector('#df-7e1dc1d2-d1aa-43e8-9bde-7cda9ac60bf3 button.colab-df-convert');\n",
              "      buttonEl.style.display =\n",
              "        google.colab.kernel.accessAllowed ? 'block' : 'none';\n",
              "\n",
              "      async function convertToInteractive(key) {\n",
              "        const element = document.querySelector('#df-7e1dc1d2-d1aa-43e8-9bde-7cda9ac60bf3');\n",
              "        const dataTable =\n",
              "          await google.colab.kernel.invokeFunction('convertToInteractive',\n",
              "                                                    [key], {});\n",
              "        if (!dataTable) return;\n",
              "\n",
              "        const docLinkHtml = 'Like what you see? Visit the ' +\n",
              "          '<a target=\"_blank\" href=https://colab.research.google.com/notebooks/data_table.ipynb>data table notebook</a>'\n",
              "          + ' to learn more about interactive tables.';\n",
              "        element.innerHTML = '';\n",
              "        dataTable['output_type'] = 'display_data';\n",
              "        await google.colab.output.renderOutput(dataTable, element);\n",
              "        const docLink = document.createElement('div');\n",
              "        docLink.innerHTML = docLinkHtml;\n",
              "        element.appendChild(docLink);\n",
              "      }\n",
              "    </script>\n",
              "  </div>\n",
              "\n",
              "\n",
              "<div id=\"df-934707b4-a051-4e82-b202-677eed0d1dd4\">\n",
              "  <button class=\"colab-df-quickchart\" onclick=\"quickchart('df-934707b4-a051-4e82-b202-677eed0d1dd4')\"\n",
              "            title=\"Suggest charts\"\n",
              "            style=\"display:none;\">\n",
              "\n",
              "<svg xmlns=\"http://www.w3.org/2000/svg\" height=\"24px\"viewBox=\"0 0 24 24\"\n",
              "     width=\"24px\">\n",
              "    <g>\n",
              "        <path d=\"M19 3H5c-1.1 0-2 .9-2 2v14c0 1.1.9 2 2 2h14c1.1 0 2-.9 2-2V5c0-1.1-.9-2-2-2zM9 17H7v-7h2v7zm4 0h-2V7h2v10zm4 0h-2v-4h2v4z\"/>\n",
              "    </g>\n",
              "</svg>\n",
              "  </button>\n",
              "\n",
              "<style>\n",
              "  .colab-df-quickchart {\n",
              "      --bg-color: #E8F0FE;\n",
              "      --fill-color: #1967D2;\n",
              "      --hover-bg-color: #E2EBFA;\n",
              "      --hover-fill-color: #174EA6;\n",
              "      --disabled-fill-color: #AAA;\n",
              "      --disabled-bg-color: #DDD;\n",
              "  }\n",
              "\n",
              "  [theme=dark] .colab-df-quickchart {\n",
              "      --bg-color: #3B4455;\n",
              "      --fill-color: #D2E3FC;\n",
              "      --hover-bg-color: #434B5C;\n",
              "      --hover-fill-color: #FFFFFF;\n",
              "      --disabled-bg-color: #3B4455;\n",
              "      --disabled-fill-color: #666;\n",
              "  }\n",
              "\n",
              "  .colab-df-quickchart {\n",
              "    background-color: var(--bg-color);\n",
              "    border: none;\n",
              "    border-radius: 50%;\n",
              "    cursor: pointer;\n",
              "    display: none;\n",
              "    fill: var(--fill-color);\n",
              "    height: 32px;\n",
              "    padding: 0;\n",
              "    width: 32px;\n",
              "  }\n",
              "\n",
              "  .colab-df-quickchart:hover {\n",
              "    background-color: var(--hover-bg-color);\n",
              "    box-shadow: 0 1px 2px rgba(60, 64, 67, 0.3), 0 1px 3px 1px rgba(60, 64, 67, 0.15);\n",
              "    fill: var(--button-hover-fill-color);\n",
              "  }\n",
              "\n",
              "  .colab-df-quickchart-complete:disabled,\n",
              "  .colab-df-quickchart-complete:disabled:hover {\n",
              "    background-color: var(--disabled-bg-color);\n",
              "    fill: var(--disabled-fill-color);\n",
              "    box-shadow: none;\n",
              "  }\n",
              "\n",
              "  .colab-df-spinner {\n",
              "    border: 2px solid var(--fill-color);\n",
              "    border-color: transparent;\n",
              "    border-bottom-color: var(--fill-color);\n",
              "    animation:\n",
              "      spin 1s steps(1) infinite;\n",
              "  }\n",
              "\n",
              "  @keyframes spin {\n",
              "    0% {\n",
              "      border-color: transparent;\n",
              "      border-bottom-color: var(--fill-color);\n",
              "      border-left-color: var(--fill-color);\n",
              "    }\n",
              "    20% {\n",
              "      border-color: transparent;\n",
              "      border-left-color: var(--fill-color);\n",
              "      border-top-color: var(--fill-color);\n",
              "    }\n",
              "    30% {\n",
              "      border-color: transparent;\n",
              "      border-left-color: var(--fill-color);\n",
              "      border-top-color: var(--fill-color);\n",
              "      border-right-color: var(--fill-color);\n",
              "    }\n",
              "    40% {\n",
              "      border-color: transparent;\n",
              "      border-right-color: var(--fill-color);\n",
              "      border-top-color: var(--fill-color);\n",
              "    }\n",
              "    60% {\n",
              "      border-color: transparent;\n",
              "      border-right-color: var(--fill-color);\n",
              "    }\n",
              "    80% {\n",
              "      border-color: transparent;\n",
              "      border-right-color: var(--fill-color);\n",
              "      border-bottom-color: var(--fill-color);\n",
              "    }\n",
              "    90% {\n",
              "      border-color: transparent;\n",
              "      border-bottom-color: var(--fill-color);\n",
              "    }\n",
              "  }\n",
              "</style>\n",
              "\n",
              "  <script>\n",
              "    async function quickchart(key) {\n",
              "      const quickchartButtonEl =\n",
              "        document.querySelector('#' + key + ' button');\n",
              "      quickchartButtonEl.disabled = true;  // To prevent multiple clicks.\n",
              "      quickchartButtonEl.classList.add('colab-df-spinner');\n",
              "      try {\n",
              "        const charts = await google.colab.kernel.invokeFunction(\n",
              "            'suggestCharts', [key], {});\n",
              "      } catch (error) {\n",
              "        console.error('Error during call to suggestCharts:', error);\n",
              "      }\n",
              "      quickchartButtonEl.classList.remove('colab-df-spinner');\n",
              "      quickchartButtonEl.classList.add('colab-df-quickchart-complete');\n",
              "    }\n",
              "    (() => {\n",
              "      let quickchartButtonEl =\n",
              "        document.querySelector('#df-934707b4-a051-4e82-b202-677eed0d1dd4 button');\n",
              "      quickchartButtonEl.style.display =\n",
              "        google.colab.kernel.accessAllowed ? 'block' : 'none';\n",
              "    })();\n",
              "  </script>\n",
              "</div>\n",
              "\n",
              "    </div>\n",
              "  </div>\n"
            ],
            "application/vnd.google.colaboratory.intrinsic+json": {
              "type": "dataframe",
              "variable_name": "application_train"
            }
          },
          "metadata": {},
          "execution_count": 13
        }
      ]
    },
    {
      "cell_type": "code",
      "source": [
        "application_train.shape"
      ],
      "metadata": {
        "colab": {
          "base_uri": "https://localhost:8080/"
        },
        "id": "jVhOkkRG2c6D",
        "outputId": "e7de6f67-2153-4045-ed5d-d4888b46a88c"
      },
      "execution_count": 14,
      "outputs": [
        {
          "output_type": "execute_result",
          "data": {
            "text/plain": [
              "(307511, 500)"
            ]
          },
          "metadata": {},
          "execution_count": 14
        }
      ]
    },
    {
      "cell_type": "code",
      "source": [
        "application_test.shape"
      ],
      "metadata": {
        "colab": {
          "base_uri": "https://localhost:8080/"
        },
        "id": "Dz2rYz4yTJTp",
        "outputId": "fa788901-fd99-43fc-b8f5-7074508266d7"
      },
      "execution_count": 15,
      "outputs": [
        {
          "output_type": "execute_result",
          "data": {
            "text/plain": [
              "(48744, 499)"
            ]
          },
          "metadata": {},
          "execution_count": 15
        }
      ]
    },
    {
      "cell_type": "code",
      "source": [],
      "metadata": {
        "id": "bwJEJDPRhew6"
      },
      "execution_count": null,
      "outputs": []
    },
    {
      "cell_type": "code",
      "source": [
        "from sklearn.model_selection import train_test_split\n",
        "\n",
        "# Extract the target variable\n",
        "train_labels = application_train['TARGET']\n",
        "train_features = application_train.drop(columns=['TARGET'])  # Drop target from features\n",
        "\n",
        "# Perform an 80-20 split on the entire dataset\n",
        "X_train, X_valid, y_train, y_valid = train_test_split(train_features, train_labels, test_size=0.2, random_state=42)\n",
        "\n",
        "# Print shapes of the resulting splits\n",
        "print(\"Training Data Shape: \", X_train.shape)\n",
        "print(\"Validation Data Shape: \", X_valid.shape)\n",
        "print(\"Training Labels Shape: \", y_train.shape)\n",
        "print(\"Validation Labels Shape: \", y_valid.shape)"
      ],
      "metadata": {
        "colab": {
          "base_uri": "https://localhost:8080/"
        },
        "id": "NcweGSiK2hVs",
        "outputId": "b0f1f378-ef93-43ba-d7e7-e83f0a32e088"
      },
      "execution_count": 16,
      "outputs": [
        {
          "output_type": "stream",
          "name": "stdout",
          "text": [
            "Training Data Shape:  (246008, 499)\n",
            "Validation Data Shape:  (61503, 499)\n",
            "Training Labels Shape:  (246008,)\n",
            "Validation Labels Shape:  (61503,)\n"
          ]
        }
      ]
    },
    {
      "cell_type": "code",
      "source": [
        "from xgboost import XGBClassifier\n",
        "from sklearn.metrics import roc_auc_score\n",
        "# Create the XGBoost model\n",
        "xgb_model = XGBClassifier(use_label_encoder=False, eval_metric='auc', random_state=42)\n",
        "\n",
        "# Train the model\n",
        "xgb_model.fit(X_train, y_train)\n",
        "\n",
        "# Predict probabilities for the validation set\n",
        "xgb_predictions = xgb_model.predict_proba(X_valid)[:, 1]\n",
        "\n",
        "# Calculate AUC\n",
        "xgb_auc = roc_auc_score(y_valid, xgb_predictions)\n",
        "print(f'XGBoost AUC: {xgb_auc:.4f}')"
      ],
      "metadata": {
        "colab": {
          "base_uri": "https://localhost:8080/"
        },
        "id": "UXMRr-Mc2hYn",
        "outputId": "be5359c1-bf26-450a-bbeb-27f99fcf4874"
      },
      "execution_count": 17,
      "outputs": [
        {
          "output_type": "stream",
          "name": "stderr",
          "text": [
            "/usr/local/lib/python3.10/dist-packages/xgboost/core.py:158: UserWarning: [22:39:19] WARNING: /workspace/src/learner.cc:740: \n",
            "Parameters: { \"use_label_encoder\" } are not used.\n",
            "\n",
            "  warnings.warn(smsg, UserWarning)\n"
          ]
        },
        {
          "output_type": "stream",
          "name": "stdout",
          "text": [
            "XGBoost AUC: 0.7672\n"
          ]
        }
      ]
    },
    {
      "cell_type": "code",
      "source": [
        "from sklearn.model_selection import RandomizedSearchCV\n",
        "# Define parameter grid\n",
        "param_grid = {\n",
        "    'n_estimators': [100, 200, 500],\n",
        "    'learning_rate': [0.01, 0.1, 0.2],\n",
        "    'max_depth': [3, 5, 7],\n",
        "    'subsample': [0.6, 0.8, 1.0],\n",
        "    'colsample_bytree': [0.6, 0.8, 1.0],\n",
        "    'gamma': [0, 0.1, 0.2],\n",
        "    'reg_alpha': [0, 0.1, 1],\n",
        "    'reg_lambda': [1, 1.5, 2]\n",
        "}\n",
        "\n",
        "# Randomized search with 3-fold cross-validation\n",
        "random_search = RandomizedSearchCV(\n",
        "    estimator=XGBClassifier(use_label_encoder=False, eval_metric='auc', random_state=42),\n",
        "    param_distributions=param_grid,\n",
        "    n_iter=20,  # Number of parameter combinations to try\n",
        "    scoring='roc_auc',\n",
        "    cv=3,\n",
        "    verbose=2,\n",
        "    random_state=42,\n",
        "    n_jobs=-1\n",
        ")\n",
        "\n",
        "# Fit the random search model\n",
        "random_search.fit(X_train, y_train)\n",
        "\n",
        "# Best parameters and AUC\n",
        "print(f'Best Parameters: {random_search.best_params_}')"
      ],
      "metadata": {
        "colab": {
          "base_uri": "https://localhost:8080/"
        },
        "id": "A2oF5qdm9J7h",
        "outputId": "99e76536-ab66-44e6-dc1b-5ec5ffc17421"
      },
      "execution_count": 18,
      "outputs": [
        {
          "output_type": "stream",
          "name": "stdout",
          "text": [
            "Fitting 3 folds for each of 20 candidates, totalling 60 fits\n"
          ]
        },
        {
          "output_type": "stream",
          "name": "stderr",
          "text": [
            "/usr/local/lib/python3.10/dist-packages/xgboost/core.py:158: UserWarning: [22:56:36] WARNING: /workspace/src/learner.cc:740: \n",
            "Parameters: { \"use_label_encoder\" } are not used.\n",
            "\n",
            "  warnings.warn(smsg, UserWarning)\n"
          ]
        },
        {
          "output_type": "stream",
          "name": "stdout",
          "text": [
            "Best Parameters: {'subsample': 0.6, 'reg_lambda': 2, 'reg_alpha': 0.1, 'n_estimators': 200, 'max_depth': 3, 'learning_rate': 0.2, 'gamma': 0.1, 'colsample_bytree': 0.8}\n"
          ]
        }
      ]
    },
    {
      "cell_type": "code",
      "source": [
        "# Evaluate the best model on the validation set\n",
        "best_model = random_search.best_estimator_\n",
        "xgb_predictions = best_model.predict_proba(X_valid)[:, 1]\n",
        "xgb_auc = roc_auc_score(y_valid, xgb_predictions)\n",
        "print(f'Validation AUC with the best model: {xgb_auc:.4f}')"
      ],
      "metadata": {
        "colab": {
          "base_uri": "https://localhost:8080/"
        },
        "id": "5wsK-U3A91zf",
        "outputId": "302abe1b-250b-4a48-f943-39b1044e4191"
      },
      "execution_count": 19,
      "outputs": [
        {
          "output_type": "stream",
          "name": "stdout",
          "text": [
            "Validation AUC with the best model: 0.7783\n"
          ]
        }
      ]
    },
    {
      "cell_type": "code",
      "source": [
        "\n",
        "# Ensure features in test match those in train\n",
        "test_features = application_test[train_features.columns]\n",
        "# Make predictions on the test dataset\n",
        "test_predictions = best_model.predict_proba(test_features)[:, 1]\n",
        "\n",
        "# Save predictions to a CSV file\n",
        "submission = pd.DataFrame({'SK_ID_CURR': application_test['SK_ID_CURR'], 'TARGET': test_predictions})\n",
        "submission.to_csv('submission.csv', index=False)\n",
        "print(\"Submission file saved as 'submission.csv'.\")"
      ],
      "metadata": {
        "colab": {
          "base_uri": "https://localhost:8080/"
        },
        "id": "eqpgWdSj911g",
        "outputId": "a36ffe61-ee4a-42c7-97d8-0c0b47a35485"
      },
      "execution_count": 20,
      "outputs": [
        {
          "output_type": "stream",
          "name": "stdout",
          "text": [
            "Submission file saved as 'submission.csv'.\n"
          ]
        }
      ]
    }
  ]
}